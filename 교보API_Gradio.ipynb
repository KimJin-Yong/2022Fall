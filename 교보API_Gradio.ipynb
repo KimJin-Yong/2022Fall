{
  "nbformat": 4,
  "nbformat_minor": 0,
  "metadata": {
    "colab": {
      "provenance": [],
      "include_colab_link": true
    },
    "kernelspec": {
      "name": "python3",
      "display_name": "Python 3"
    },
    "language_info": {
      "name": "python"
    }
  },
  "cells": [
    {
      "cell_type": "markdown",
      "metadata": {
        "id": "view-in-github",
        "colab_type": "text"
      },
      "source": [
        "<a href=\"https://colab.research.google.com/github/KimJin-Yong/class2022Fall/blob/main/%EA%B5%90%EB%B3%B4API_Gradio.ipynb\" target=\"_parent\"><img src=\"https://colab.research.google.com/assets/colab-badge.svg\" alt=\"Open In Colab\"/></a>"
      ]
    },
    {
      "cell_type": "code",
      "source": [
        "import pandas as pd\n",
        "import json\n",
        "import requests"
      ],
      "metadata": {
        "id": "nhZj-Bi8Atg2"
      },
      "execution_count": null,
      "outputs": []
    },
    {
      "cell_type": "code",
      "source": [
        "bookID = 'S000000620181'\n",
        "url='https://product.kyobobook.co.kr/api/review/list?page=1&pageLimit=10000&reviewSort=001&revwPatrCode=000&saleCmdtid='+bookID"
      ],
      "metadata": {
        "id": "j4Cj1FNgAyDU"
      },
      "execution_count": null,
      "outputs": []
    },
    {
      "cell_type": "code",
      "source": [
        "response = requests.get(url)\n",
        "response"
      ],
      "metadata": {
        "id": "P2y8pa1teetY",
        "colab": {
          "base_uri": "https://localhost:8080/"
        },
        "outputId": "049a44cd-ba41-40ba-f616-45a0772d0003"
      },
      "execution_count": null,
      "outputs": [
        {
          "output_type": "execute_result",
          "data": {
            "text/plain": [
              "<Response [200]>"
            ]
          },
          "metadata": {},
          "execution_count": 3
        }
      ]
    },
    {
      "cell_type": "code",
      "source": [
        "json_txt = response.text\n",
        "dict_data = json.loads(json_txt)"
      ],
      "metadata": {
        "id": "nU26-rUceiyY"
      },
      "execution_count": null,
      "outputs": []
    },
    {
      "cell_type": "code",
      "source": [
        "df = pd.DataFrame(dict_data['data']['reviewList'])"
      ],
      "metadata": {
        "id": "DMlya8yXe5DH"
      },
      "execution_count": 46,
      "outputs": []
    },
    {
      "cell_type": "code",
      "source": [
        "df"
      ],
      "metadata": {
        "id": "TQPnfwXEmygI"
      },
      "execution_count": null,
      "outputs": []
    },
    {
      "cell_type": "code",
      "source": [
        "df_new = pd.concat([df['mmbrNum'], df['revwCntt'], df['cretDttm'] ], axis=1)"
      ],
      "metadata": {
        "id": "KvgVYCqUlNeg"
      },
      "execution_count": 52,
      "outputs": []
    },
    {
      "cell_type": "code",
      "source": [
        "df_new"
      ],
      "metadata": {
        "colab": {
          "base_uri": "https://localhost:8080/",
          "height": 419
        },
        "id": "6c_pCur4m64U",
        "outputId": "7d724616-b23f-4013-8792-4093b2502121"
      },
      "execution_count": 53,
      "outputs": [
        {
          "output_type": "execute_result",
          "data": {
            "text/plain": [
              "          mmbrNum                                           revwCntt  \\\n",
              "0     50012839410  현대소설로는 채워지지 않는 갈증이 있을때는\\r\\n고전 다시 읽기추천합니다\\r\\n십대...   \n",
              "1     62006207032  과거로 돌아간다면 난 어느 시점으로 돌아가고 싶을까 철부지 20대 시절 그 빛나던 ...   \n",
              "2     62006119863                                              추천할게요   \n",
              "3     62015517467                                            구매추천합니다   \n",
              "4     52010070040                                      데미안의 생각과 비슷하다   \n",
              "...           ...                                                ...   \n",
              "1014  42004150513  \\r\\n헤르만 헤세를 처음 접한 건 7년전 학교 도서관에서 그의 소설 [지와 사랑]...   \n",
              "1015  12000086565  어렸을 때 아버지의 서재에는 누렇게 색이 바랜 두꺼운 책들이 쌓여있었지요. 그 중 ...   \n",
              "1016  12002503297  \"새는 알을 깨고 나온다. 알은 새의 세계다. 태어나려는 자는 한 세계를 파괴하지 ...   \n",
              "1017  12000127670  데미안을 읽으면서 사람들은 느낀다. 이 책이 그 오랜 시간 동안 나를 기다려 준 것...   \n",
              "1018  12001289009  과거 어느 때인가 짧은 스포츠 머리의 나는 아버지 서재의 책꽂이에서 낡은 책 한 권...   \n",
              "\n",
              "                     cretDttm  \n",
              "0     2020-07-18 22:49:44.376  \n",
              "1     2020-04-20 13:14:30.223  \n",
              "2      2020-07-24 17:16:37.82  \n",
              "3     2020-06-19 19:18:10.626  \n",
              "4     2019-06-01 09:09:03.216  \n",
              "...                       ...  \n",
              "1014      2003-08-09 15:04:00  \n",
              "1015      2003-03-08 19:13:00  \n",
              "1016      2002-10-18 11:17:00  \n",
              "1017      2002-02-19 21:34:00  \n",
              "1018      2001-08-07 18:23:00  \n",
              "\n",
              "[1019 rows x 3 columns]"
            ],
            "text/html": [
              "\n",
              "  <div id=\"df-1fd8999b-58fa-49f7-aa09-2964b95b9950\">\n",
              "    <div class=\"colab-df-container\">\n",
              "      <div>\n",
              "<style scoped>\n",
              "    .dataframe tbody tr th:only-of-type {\n",
              "        vertical-align: middle;\n",
              "    }\n",
              "\n",
              "    .dataframe tbody tr th {\n",
              "        vertical-align: top;\n",
              "    }\n",
              "\n",
              "    .dataframe thead th {\n",
              "        text-align: right;\n",
              "    }\n",
              "</style>\n",
              "<table border=\"1\" class=\"dataframe\">\n",
              "  <thead>\n",
              "    <tr style=\"text-align: right;\">\n",
              "      <th></th>\n",
              "      <th>mmbrNum</th>\n",
              "      <th>revwCntt</th>\n",
              "      <th>cretDttm</th>\n",
              "    </tr>\n",
              "  </thead>\n",
              "  <tbody>\n",
              "    <tr>\n",
              "      <th>0</th>\n",
              "      <td>50012839410</td>\n",
              "      <td>현대소설로는 채워지지 않는 갈증이 있을때는\\r\\n고전 다시 읽기추천합니다\\r\\n십대...</td>\n",
              "      <td>2020-07-18 22:49:44.376</td>\n",
              "    </tr>\n",
              "    <tr>\n",
              "      <th>1</th>\n",
              "      <td>62006207032</td>\n",
              "      <td>과거로 돌아간다면 난 어느 시점으로 돌아가고 싶을까 철부지 20대 시절 그 빛나던 ...</td>\n",
              "      <td>2020-04-20 13:14:30.223</td>\n",
              "    </tr>\n",
              "    <tr>\n",
              "      <th>2</th>\n",
              "      <td>62006119863</td>\n",
              "      <td>추천할게요</td>\n",
              "      <td>2020-07-24 17:16:37.82</td>\n",
              "    </tr>\n",
              "    <tr>\n",
              "      <th>3</th>\n",
              "      <td>62015517467</td>\n",
              "      <td>구매추천합니다</td>\n",
              "      <td>2020-06-19 19:18:10.626</td>\n",
              "    </tr>\n",
              "    <tr>\n",
              "      <th>4</th>\n",
              "      <td>52010070040</td>\n",
              "      <td>데미안의 생각과 비슷하다</td>\n",
              "      <td>2019-06-01 09:09:03.216</td>\n",
              "    </tr>\n",
              "    <tr>\n",
              "      <th>...</th>\n",
              "      <td>...</td>\n",
              "      <td>...</td>\n",
              "      <td>...</td>\n",
              "    </tr>\n",
              "    <tr>\n",
              "      <th>1014</th>\n",
              "      <td>42004150513</td>\n",
              "      <td>\\r\\n헤르만 헤세를 처음 접한 건 7년전 학교 도서관에서 그의 소설 [지와 사랑]...</td>\n",
              "      <td>2003-08-09 15:04:00</td>\n",
              "    </tr>\n",
              "    <tr>\n",
              "      <th>1015</th>\n",
              "      <td>12000086565</td>\n",
              "      <td>어렸을 때 아버지의 서재에는 누렇게 색이 바랜 두꺼운 책들이 쌓여있었지요. 그 중 ...</td>\n",
              "      <td>2003-03-08 19:13:00</td>\n",
              "    </tr>\n",
              "    <tr>\n",
              "      <th>1016</th>\n",
              "      <td>12002503297</td>\n",
              "      <td>\"새는 알을 깨고 나온다. 알은 새의 세계다. 태어나려는 자는 한 세계를 파괴하지 ...</td>\n",
              "      <td>2002-10-18 11:17:00</td>\n",
              "    </tr>\n",
              "    <tr>\n",
              "      <th>1017</th>\n",
              "      <td>12000127670</td>\n",
              "      <td>데미안을 읽으면서 사람들은 느낀다. 이 책이 그 오랜 시간 동안 나를 기다려 준 것...</td>\n",
              "      <td>2002-02-19 21:34:00</td>\n",
              "    </tr>\n",
              "    <tr>\n",
              "      <th>1018</th>\n",
              "      <td>12001289009</td>\n",
              "      <td>과거 어느 때인가 짧은 스포츠 머리의 나는 아버지 서재의 책꽂이에서 낡은 책 한 권...</td>\n",
              "      <td>2001-08-07 18:23:00</td>\n",
              "    </tr>\n",
              "  </tbody>\n",
              "</table>\n",
              "<p>1019 rows × 3 columns</p>\n",
              "</div>\n",
              "      <button class=\"colab-df-convert\" onclick=\"convertToInteractive('df-1fd8999b-58fa-49f7-aa09-2964b95b9950')\"\n",
              "              title=\"Convert this dataframe to an interactive table.\"\n",
              "              style=\"display:none;\">\n",
              "        \n",
              "  <svg xmlns=\"http://www.w3.org/2000/svg\" height=\"24px\"viewBox=\"0 0 24 24\"\n",
              "       width=\"24px\">\n",
              "    <path d=\"M0 0h24v24H0V0z\" fill=\"none\"/>\n",
              "    <path d=\"M18.56 5.44l.94 2.06.94-2.06 2.06-.94-2.06-.94-.94-2.06-.94 2.06-2.06.94zm-11 1L8.5 8.5l.94-2.06 2.06-.94-2.06-.94L8.5 2.5l-.94 2.06-2.06.94zm10 10l.94 2.06.94-2.06 2.06-.94-2.06-.94-.94-2.06-.94 2.06-2.06.94z\"/><path d=\"M17.41 7.96l-1.37-1.37c-.4-.4-.92-.59-1.43-.59-.52 0-1.04.2-1.43.59L10.3 9.45l-7.72 7.72c-.78.78-.78 2.05 0 2.83L4 21.41c.39.39.9.59 1.41.59.51 0 1.02-.2 1.41-.59l7.78-7.78 2.81-2.81c.8-.78.8-2.07 0-2.86zM5.41 20L4 18.59l7.72-7.72 1.47 1.35L5.41 20z\"/>\n",
              "  </svg>\n",
              "      </button>\n",
              "      \n",
              "  <style>\n",
              "    .colab-df-container {\n",
              "      display:flex;\n",
              "      flex-wrap:wrap;\n",
              "      gap: 12px;\n",
              "    }\n",
              "\n",
              "    .colab-df-convert {\n",
              "      background-color: #E8F0FE;\n",
              "      border: none;\n",
              "      border-radius: 50%;\n",
              "      cursor: pointer;\n",
              "      display: none;\n",
              "      fill: #1967D2;\n",
              "      height: 32px;\n",
              "      padding: 0 0 0 0;\n",
              "      width: 32px;\n",
              "    }\n",
              "\n",
              "    .colab-df-convert:hover {\n",
              "      background-color: #E2EBFA;\n",
              "      box-shadow: 0px 1px 2px rgba(60, 64, 67, 0.3), 0px 1px 3px 1px rgba(60, 64, 67, 0.15);\n",
              "      fill: #174EA6;\n",
              "    }\n",
              "\n",
              "    [theme=dark] .colab-df-convert {\n",
              "      background-color: #3B4455;\n",
              "      fill: #D2E3FC;\n",
              "    }\n",
              "\n",
              "    [theme=dark] .colab-df-convert:hover {\n",
              "      background-color: #434B5C;\n",
              "      box-shadow: 0px 1px 3px 1px rgba(0, 0, 0, 0.15);\n",
              "      filter: drop-shadow(0px 1px 2px rgba(0, 0, 0, 0.3));\n",
              "      fill: #FFFFFF;\n",
              "    }\n",
              "  </style>\n",
              "\n",
              "      <script>\n",
              "        const buttonEl =\n",
              "          document.querySelector('#df-1fd8999b-58fa-49f7-aa09-2964b95b9950 button.colab-df-convert');\n",
              "        buttonEl.style.display =\n",
              "          google.colab.kernel.accessAllowed ? 'block' : 'none';\n",
              "\n",
              "        async function convertToInteractive(key) {\n",
              "          const element = document.querySelector('#df-1fd8999b-58fa-49f7-aa09-2964b95b9950');\n",
              "          const dataTable =\n",
              "            await google.colab.kernel.invokeFunction('convertToInteractive',\n",
              "                                                     [key], {});\n",
              "          if (!dataTable) return;\n",
              "\n",
              "          const docLinkHtml = 'Like what you see? Visit the ' +\n",
              "            '<a target=\"_blank\" href=https://colab.research.google.com/notebooks/data_table.ipynb>data table notebook</a>'\n",
              "            + ' to learn more about interactive tables.';\n",
              "          element.innerHTML = '';\n",
              "          dataTable['output_type'] = 'display_data';\n",
              "          await google.colab.output.renderOutput(dataTable, element);\n",
              "          const docLink = document.createElement('div');\n",
              "          docLink.innerHTML = docLinkHtml;\n",
              "          element.appendChild(docLink);\n",
              "        }\n",
              "      </script>\n",
              "    </div>\n",
              "  </div>\n",
              "  "
            ]
          },
          "metadata": {},
          "execution_count": 53
        }
      ]
    },
    {
      "cell_type": "code",
      "source": [
        "type(df['revwCntt'])"
      ],
      "metadata": {
        "colab": {
          "base_uri": "https://localhost:8080/"
        },
        "id": "Yk-Qo1lEbX4Q",
        "outputId": "3f0c9f4d-882e-4601-c630-d7ccbe145aea"
      },
      "execution_count": 49,
      "outputs": [
        {
          "output_type": "execute_result",
          "data": {
            "text/plain": [
              "pandas.core.series.Series"
            ]
          },
          "metadata": {},
          "execution_count": 49
        }
      ]
    },
    {
      "cell_type": "code",
      "source": [
        "df.to_excel('review.xlsx')\n",
        "df.to_csv('review.csv')\n",
        "df.to_csv('review.csv', encoding='utf-8-sig')"
      ],
      "metadata": {
        "id": "_DVrUrYXykvL"
      },
      "execution_count": null,
      "outputs": []
    },
    {
      "cell_type": "code",
      "source": [
        "!pip install gradio"
      ],
      "metadata": {
        "id": "3QdNdil_Wahv"
      },
      "execution_count": null,
      "outputs": []
    },
    {
      "cell_type": "code",
      "source": [
        "import gradio as gr\n",
        "\n",
        "def asignment(bookID):\n",
        "  URL = 'https://product.kyobobook.co.kr/api/review/list?page=1&pageLimit=10000&reviewSort=001&revwPatrCode=000&saleCmdtid='+bookID\n",
        "  response = requests.get(URL)\n",
        "  toDict = json.loads(response.text)\n",
        "  df=pd.DataFrame(toDict['data']['reviewList'])\n",
        "  return df"
      ],
      "metadata": {
        "id": "Qokp66vjWtIo"
      },
      "execution_count": 56,
      "outputs": []
    },
    {
      "cell_type": "code",
      "source": [
        "demoApp = gr.Interface(fn=asignment, inputs=['text'], outputs ='dataframe')\n",
        "demoApp.launch(share=True)\n",
        "\n",
        "# demian ID - S000000620181"
      ],
      "metadata": {
        "colab": {
          "base_uri": "https://localhost:8080/",
          "height": 640
        },
        "id": "30KTL4e9XmK1",
        "outputId": "09674d51-9abb-4a1f-de6d-8846dd742d26"
      },
      "execution_count": 57,
      "outputs": [
        {
          "output_type": "stream",
          "name": "stdout",
          "text": [
            "Colab notebook detected. To show errors in colab notebook, set `debug=True` in `launch()`\n",
            "Running on public URL: https://f1302bfdc4944038.gradio.app\n",
            "\n",
            "This share link expires in 72 hours. For free permanent hosting and GPU upgrades (NEW!), check out Spaces: https://huggingface.co/spaces\n"
          ]
        },
        {
          "output_type": "display_data",
          "data": {
            "text/plain": [
              "<IPython.core.display.HTML object>"
            ],
            "text/html": [
              "<div><iframe src=\"https://f1302bfdc4944038.gradio.app\" width=\"100%\" height=\"500\" allow=\"autoplay; camera; microphone; clipboard-read; clipboard-write;\" frameborder=\"0\" allowfullscreen></iframe></div>"
            ]
          },
          "metadata": {}
        },
        {
          "output_type": "execute_result",
          "data": {
            "text/plain": [
              "(<gradio.routes.App at 0x7fb9574a9d50>,\n",
              " 'http://127.0.0.1:7865/',\n",
              " 'https://f1302bfdc4944038.gradio.app')"
            ]
          },
          "metadata": {},
          "execution_count": 57
        }
      ]
    },
    {
      "cell_type": "code",
      "source": [
        "#개인 공부\n",
        "import gradio as gr\n",
        "\n",
        "def asignment(bookID):\n",
        "  URL = 'https://product.kyobobook.co.kr/api/review/list?page=1&pageLimit=10000&reviewSort=001&revwPatrCode=000&saleCmdtid='+bookID\n",
        "  response = requests.get(URL)\n",
        "  toDict = json.loads(response.text)\n",
        "  df=pd.DataFrame(toDict['data']['reviewList'])\n",
        "  df_new = pd.concat([df['mmbrNum'], df['revwCntt'], df['cretDttm'] ], axis=1)\n",
        "  return df_new\n",
        "\n",
        "demoApp = gr.Interface(fn=asignment, inputs=['text'], outputs ='dataframe')\n",
        "demoApp.launch(share=True)\n",
        "\n",
        "# demian ID - S000000620181"
      ],
      "metadata": {
        "id": "X1HdkqaCcA4c",
        "colab": {
          "base_uri": "https://localhost:8080/",
          "height": 674
        },
        "outputId": "d92e5d9d-457b-4b99-961c-ab9679d9b0fd"
      },
      "execution_count": 55,
      "outputs": [
        {
          "output_type": "stream",
          "name": "stderr",
          "text": [
            "/usr/local/lib/python3.7/dist-packages/gradio/utils.py:67: UserWarning: unable to parse version details from package URL.\n",
            "  warnings.warn(\"unable to parse version details from package URL.\")\n"
          ]
        },
        {
          "output_type": "stream",
          "name": "stdout",
          "text": [
            "Colab notebook detected. To show errors in colab notebook, set `debug=True` in `launch()`\n",
            "Running on public URL: https://406d6b661b01c7a2.gradio.app\n",
            "\n",
            "This share link expires in 72 hours. For free permanent hosting and GPU upgrades (NEW!), check out Spaces: https://huggingface.co/spaces\n"
          ]
        },
        {
          "output_type": "display_data",
          "data": {
            "text/plain": [
              "<IPython.core.display.HTML object>"
            ],
            "text/html": [
              "<div><iframe src=\"https://406d6b661b01c7a2.gradio.app\" width=\"100%\" height=\"500\" allow=\"autoplay; camera; microphone; clipboard-read; clipboard-write;\" frameborder=\"0\" allowfullscreen></iframe></div>"
            ]
          },
          "metadata": {}
        },
        {
          "output_type": "execute_result",
          "data": {
            "text/plain": [
              "(<gradio.routes.App at 0x7fb9574aacd0>,\n",
              " 'http://127.0.0.1:7864/',\n",
              " 'https://406d6b661b01c7a2.gradio.app')"
            ]
          },
          "metadata": {},
          "execution_count": 55
        }
      ]
    }
  ]
}